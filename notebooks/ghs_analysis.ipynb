{
 "cells": [
  {
   "cell_type": "code",
   "execution_count": null,
   "id": "4dc647ff",
   "metadata": {},
   "outputs": [],
   "source": [
    "import geopandas as gpd\n",
    "import numpy as np\n",
    "import pandas as pd"
   ]
  },
  {
   "cell_type": "markdown",
   "id": "1a03fc3c",
   "metadata": {},
   "source": [
    "## Load Public School Points"
   ]
  },
  {
   "cell_type": "code",
   "execution_count": null,
   "id": "01eb83bc",
   "metadata": {},
   "outputs": [],
   "source": [
    "school_points = gpd.read_file('../data/processed_data/school_points_with_lcgms.geojson', dtype={'Zip': str, 'Borough Block Lot': str})\n",
    "if school_points.crs != \"EPSG:4326\":\n",
    "        school_points = school_points.to_crs(\"EPSG:4326\")\n"
   ]
  },
  {
   "cell_type": "code",
   "execution_count": null,
   "id": "80c95fb4",
   "metadata": {},
   "outputs": [],
   "source": [
    "public_school_points = school_points[school_points[\"Managed By Name\"]=='DOE'].reset_index(drop=True)"
   ]
  },
  {
   "cell_type": "markdown",
   "id": "3124d41d",
   "metadata": {},
   "source": [
    "## Load DACs"
   ]
  },
  {
   "cell_type": "code",
   "execution_count": null,
   "id": "3592360c",
   "metadata": {},
   "outputs": [],
   "source": [
    "# TODO: fix the dtypes in DAC exports so that BBL, ZIP, and other code cols are string\n",
    "dacs = gpd.read_file('../data/processed_data/dac_nyc_lite.geojson')"
   ]
  },
  {
   "cell_type": "markdown",
   "id": "16204cdd",
   "metadata": {},
   "source": [
    "### Add Flag to Public Schools if in a DAC"
   ]
  },
  {
   "cell_type": "code",
   "execution_count": null,
   "id": "5ff7a274",
   "metadata": {},
   "outputs": [],
   "source": [
    "# check that there aren't any public schools exactly on the border of a DAC\n",
    "assert public_school_points.geometry.apply(dacs.union_all().covers).sum() == public_school_points.geometry.within(dacs.union_all()).sum()"
   ]
  },
  {
   "cell_type": "code",
   "execution_count": null,
   "id": "9ee780fe",
   "metadata": {},
   "outputs": [],
   "source": [
    "public_school_points['in_dac'] = public_school_points.geometry.within(dacs.union_all())"
   ]
  },
  {
   "cell_type": "code",
   "execution_count": null,
   "id": "f4528030",
   "metadata": {},
   "outputs": [],
   "source": [
    "print(\"proportion of public schools in a DAC:\", public_school_points['in_dac'].sum() / len(public_school_points))"
   ]
  },
  {
   "cell_type": "markdown",
   "id": "d2f26dad",
   "metadata": {},
   "source": [
    "Show Top 10 schools by composite DAC score"
   ]
  },
  {
   "cell_type": "code",
   "execution_count": null,
   "id": "7e6f5f45",
   "metadata": {},
   "outputs": [],
   "source": [
    "public_schools_with_dacs = gpd.sjoin(public_school_points, dacs, how='left', predicate='within')"
   ]
  },
  {
   "cell_type": "code",
   "execution_count": null,
   "id": "a83ac6ab",
   "metadata": {},
   "outputs": [],
   "source": [
    "public_schools_with_dacs['dac_designation'] = public_schools_with_dacs['dac_designation'].fillna(False)"
   ]
  },
  {
   "cell_type": "code",
   "execution_count": null,
   "id": "4aa5c3ff",
   "metadata": {},
   "outputs": [],
   "source": [
    "public_schools_with_dacs = public_schools_with_dacs[public_schools_with_dacs['dac_designation']].sort_values('percentile_rank_combined_nyc', ascending=False)"
   ]
  },
  {
   "cell_type": "code",
   "execution_count": null,
   "id": "b99f6743",
   "metadata": {},
   "outputs": [],
   "source": [
    "# TODO: fix this in the processed school points export\n",
    "public_schools_with_dacs['Zip'] = public_schools_with_dacs['Zip'].astype(int).astype(str).str.zfill(5)\n",
    "public_schools_with_dacs['Borough Block Lot'] = public_schools_with_dacs['Borough Block Lot'].astype(int).astype(str).str.zfill(10)\n",
    "public_schools_with_dacs['duplicate_geometry'] = public_schools_with_dacs['geometry'].duplicated(keep=False)"
   ]
  },
  {
   "cell_type": "code",
   "execution_count": null,
   "id": "ba325a3c",
   "metadata": {},
   "outputs": [],
   "source": [
    "public_school_points[public_school_points['Location Name'].isin(['P.S. 112 Jose Celso Barbosa', 'P.S. 206 Jose Celso Barbosa' ])]"
   ]
  },
  {
   "cell_type": "code",
   "execution_count": null,
   "id": "c64b518b",
   "metadata": {},
   "outputs": [],
   "source": [
    "cols_to_keep_from_schools = ['Location Code', 'Location Name', 'Administrative District Name', 'Principal Name', 'Principal Phone Number', 'Primary Address', 'Zip', 'Borough Block Lot']\n",
    "cols_to_keep_from_dacs = ['combined_score', 'percentile_rank_combined_nyc', 'burden_score', 'burden_score_percentile', 'vulnerability_score','vulnerability_score_percentile']\n",
    "all_cols_to_keep = cols_to_keep_from_schools + cols_to_keep_from_dacs\n",
    "public_schools_with_dacs[all_cols_to_keep + ['geometry', 'duplicate_geometry']].head(25)"
   ]
  },
  {
   "cell_type": "code",
   "execution_count": null,
   "id": "8a8d707e",
   "metadata": {},
   "outputs": [],
   "source": [
    "public_schools_with_dacs[all_cols_to_keep + ['geometry']].head(25).explore(tiles='CartoDB positron',\n",
    "                popup=all_cols_to_keep,\n",
    "                tooltip=['Location Name'],\n",
    "                legend=True,\n",
    "                style_kwds={'fillOpacity': 0.7, 'weight': 1}\n",
    ")"
   ]
  },
  {
   "cell_type": "markdown",
   "id": "64abcca2",
   "metadata": {},
   "source": [
    "## Load Enrollment Capacity and Utilization Data\n",
    "\n",
    "\n",
    "Questions: \n",
    "- Do we use building enrollment/capacity or school enrollment/capacity?\n",
    "- What threshold do we use for pct utilization to indicate burden?\n",
    "    - The language in the policy memo is \"whether it meets the capacity of enrollment demands\", which I interpret as less than or equal to 100% Utilization. But that leaves us with a lot of options"
   ]
  },
  {
   "cell_type": "code",
   "execution_count": null,
   "id": "f0a27910",
   "metadata": {},
   "outputs": [],
   "source": [
    "capacity_utilization_df = pd.read_csv('../data/raw_data/SCA/Capacity and Utilization/Enrollment_Capacity_And_Utilization_Reports_20250915.csv')\n",
    "print('total records:', len(capacity_utilization_df))\n",
    "print('unique buildings:', capacity_utilization_df['Bldg ID'].nunique())\n",
    "print('unique organizations:', capacity_utilization_df['Organization Name'].nunique())"
   ]
  },
  {
   "cell_type": "code",
   "execution_count": null,
   "id": "63460117",
   "metadata": {},
   "outputs": [],
   "source": [
    "# Fix data types\n",
    "# Convert 'Data As Of' to datetime\n",
    "capacity_utilization_df['Data As Of'] = pd.to_datetime(capacity_utilization_df['Data As Of'], format='%m/%d/%Y')\n"
   ]
  },
  {
   "cell_type": "code",
   "execution_count": null,
   "id": "a619dfda",
   "metadata": {},
   "outputs": [],
   "source": [
    "# Deduplicate by taking most recent record for each organization/building combination\n",
    "capacity_utilization_df = capacity_utilization_df.sort_values('Data As Of').drop_duplicates(subset=['Organization Name', 'Bldg ID'], keep='last')"
   ]
  },
  {
   "cell_type": "code",
   "execution_count": null,
   "id": "629d2d5a",
   "metadata": {},
   "outputs": [],
   "source": [
    "# TODO: need to get 5K records down to 1.5K unique buildings\n",
    "\n",
    "# For these 837 buildings, there is an org name that matches the building name\n",
    "# ASSUMPTION: when org name==building name, this is the school whose capacity we care about.\n",
    "capacity_utilization_df[capacity_utilization_df['Bldg Name']==capacity_utilization_df['Organization Name']]['Bldg ID'].nunique()"
   ]
  },
  {
   "cell_type": "code",
   "execution_count": null,
   "id": "56cce39b",
   "metadata": {},
   "outputs": [],
   "source": [
    "# TODO: find buildings that don't have a matching organization name\n",
    "# For each group, check if name of group appears in Organization Name column\n",
    "\n",
    "capacity_utilization_df.groupby('Bldg Name').apply(lambda x: (x['Organization Name']==x.name).any())"
   ]
  },
  {
   "cell_type": "code",
   "execution_count": null,
   "id": "707c80cb",
   "metadata": {},
   "outputs": [],
   "source": [
    "capacity_utilization_df[capacity_utilization_df['Bldg Name']=='1368 FULTON STREET']"
   ]
  },
  {
   "cell_type": "code",
   "execution_count": null,
   "id": "128584a6",
   "metadata": {},
   "outputs": [],
   "source": [
    "# Show how many unique/overlapping school buildings\n",
    "schools_capacity_merged = public_school_points[['Location Code', 'Location Name']].merge(\n",
    "    capacity_utilization_df[['Bldg ID', 'Bldg Name']].drop_duplicates(subset='Bldg ID'), left_on='Location Code', right_on='Bldg ID', how='outer', indicator=True)\n",
    "schools_capacity_merged['_merge'].value_counts()"
   ]
  },
  {
   "cell_type": "code",
   "execution_count": null,
   "id": "b30c38ad",
   "metadata": {},
   "outputs": [],
   "source": [
    "public_school_points[public_school_points['Location Code'].fillna('').str.startswith(\"K414\")].head(20)[['Latitude', 'Longitude','geometry']]#contains('P.S..019', regex=True)]"
   ]
  },
  {
   "cell_type": "code",
   "execution_count": null,
   "id": "3afd4b28",
   "metadata": {},
   "outputs": [],
   "source": []
  },
  {
   "cell_type": "code",
   "execution_count": null,
   "id": "9b82dc73",
   "metadata": {},
   "outputs": [],
   "source": [
    "schools_capacity_merged[schools_capacity_merged['_merge']=='right_only']"
   ]
  }
 ],
 "metadata": {
  "kernelspec": {
   "display_name": "Python (.venv) zohran-ghs-dashboard",
   "language": "python",
   "name": "zohran-ghs-dashboard"
  },
  "language_info": {
   "codemirror_mode": {
    "name": "ipython",
    "version": 3
   },
   "file_extension": ".py",
   "mimetype": "text/x-python",
   "name": "python",
   "nbconvert_exporter": "python",
   "pygments_lexer": "ipython3",
   "version": "3.13.7"
  }
 },
 "nbformat": 4,
 "nbformat_minor": 5
}
