{
 "cells": [
  {
   "cell_type": "code",
   "execution_count": null,
   "id": "4dc647ff",
   "metadata": {},
   "outputs": [],
   "source": [
    "import geopandas as gpd\n",
    "import numpy as np\n",
    "import pandas as pd"
   ]
  },
  {
   "cell_type": "markdown",
   "id": "1a03fc3c",
   "metadata": {},
   "source": [
    "## Load Public School Points"
   ]
  },
  {
   "cell_type": "code",
   "execution_count": 1,
   "id": "01eb83bc",
   "metadata": {},
   "outputs": [
    {
     "ename": "NameError",
     "evalue": "name 'gpd' is not defined",
     "output_type": "error",
     "traceback": [
      "\u001b[31m---------------------------------------------------------------------------\u001b[39m",
      "\u001b[31mNameError\u001b[39m                                 Traceback (most recent call last)",
      "\u001b[36mCell\u001b[39m\u001b[36m \u001b[39m\u001b[32mIn[1]\u001b[39m\u001b[32m, line 1\u001b[39m\n\u001b[32m----> \u001b[39m\u001b[32m1\u001b[39m school_points = \u001b[43mgpd\u001b[49m.read_file(\u001b[33m'\u001b[39m\u001b[33m../data/processed_data/school_points_with_lcgms.geojson\u001b[39m\u001b[33m'\u001b[39m, dtype={\u001b[33m'\u001b[39m\u001b[33mZip\u001b[39m\u001b[33m'\u001b[39m: \u001b[38;5;28mstr\u001b[39m, \u001b[33m'\u001b[39m\u001b[33mBorough Block Lot\u001b[39m\u001b[33m'\u001b[39m: \u001b[38;5;28mstr\u001b[39m})\n\u001b[32m      2\u001b[39m \u001b[38;5;28;01mif\u001b[39;00m school_points.crs != \u001b[33m\"\u001b[39m\u001b[33mEPSG:4326\u001b[39m\u001b[33m\"\u001b[39m:\n\u001b[32m      3\u001b[39m         school_points = school_points.to_crs(\u001b[33m\"\u001b[39m\u001b[33mEPSG:4326\u001b[39m\u001b[33m\"\u001b[39m)\n",
      "\u001b[31mNameError\u001b[39m: name 'gpd' is not defined"
     ]
    }
   ],
   "source": [
    "school_points = gpd.read_file('../data/processed_data/school_points_with_lcgms.gpkg', dtype={'Zip': str, 'Borough Block Lot': str})"
   ]
  },
  {
   "cell_type": "code",
   "execution_count": null,
   "id": "80c95fb4",
   "metadata": {},
   "outputs": [],
   "source": [
    "public_school_points = school_points[school_points[\"Managed By Name\"]=='DOE'].reset_index(drop=True)"
   ]
  },
  {
   "cell_type": "markdown",
   "id": "3124d41d",
   "metadata": {},
   "source": [
    "## Load DACs"
   ]
  },
  {
   "cell_type": "code",
   "execution_count": null,
   "id": "3592360c",
   "metadata": {},
   "outputs": [],
   "source": [
    "# TODO: fix the dtypes in DAC exports so that BBL, ZIP, and other code cols are string\n",
    "dacs = gpd.read_file('../data/processed_data/dac_nyc_lite.geojson')"
   ]
  },
  {
   "cell_type": "markdown",
   "id": "16204cdd",
   "metadata": {},
   "source": [
    "### Add Flag to Public Schools if in a DAC"
   ]
  },
  {
   "cell_type": "code",
   "execution_count": null,
   "id": "5ff7a274",
   "metadata": {},
   "outputs": [],
   "source": [
    "# check that there aren't any public schools exactly on the border of a DAC\n",
    "assert public_school_points.geometry.apply(dacs.union_all().covers).sum() == public_school_points.geometry.within(dacs.union_all()).sum()"
   ]
  },
  {
   "cell_type": "code",
   "execution_count": null,
   "id": "9ee780fe",
   "metadata": {},
   "outputs": [],
   "source": [
    "public_school_points['in_dac'] = public_school_points.geometry.within(dacs.union_all())"
   ]
  },
  {
   "cell_type": "code",
   "execution_count": null,
   "id": "f4528030",
   "metadata": {},
   "outputs": [],
   "source": [
    "print(\"proportion of public schools in a DAC:\", public_school_points['in_dac'].sum() / len(public_school_points))"
   ]
  },
  {
   "cell_type": "markdown",
   "id": "d2f26dad",
   "metadata": {},
   "source": [
    "Show Top 10 schools by composite DAC score"
   ]
  },
  {
   "cell_type": "code",
   "execution_count": null,
   "id": "7e6f5f45",
   "metadata": {},
   "outputs": [],
   "source": [
    "public_schools_with_dacs = gpd.sjoin(public_school_points, dacs, how='left', predicate='within')"
   ]
  },
  {
   "cell_type": "code",
   "execution_count": null,
   "id": "a83ac6ab",
   "metadata": {},
   "outputs": [],
   "source": [
    "public_schools_with_dacs['dac_designation'] = public_schools_with_dacs['dac_designation'].fillna(False)"
   ]
  },
  {
   "cell_type": "code",
   "execution_count": null,
   "id": "4aa5c3ff",
   "metadata": {},
   "outputs": [],
   "source": [
    "public_schools_with_dacs = public_schools_with_dacs[public_schools_with_dacs['dac_designation']].sort_values('percentile_rank_combined_nyc', ascending=False)"
   ]
  },
  {
   "cell_type": "code",
   "execution_count": null,
   "id": "b99f6743",
   "metadata": {},
   "outputs": [],
   "source": [
    "# TODO: fix this in the processed school points export\n",
    "public_schools_with_dacs['Zip'] = public_schools_with_dacs['Zip'].apply(lambda x: str(int(x)).zfill(5) if not pd.isna(x) else np.nan)\n",
    "public_schools_with_dacs['Borough Block Lot'] = public_schools_with_dacs['Borough Block Lot'].apply(lambda x: str(int(x)).zfill(10) if not pd.isna(x) else np.nan)\n",
    "public_schools_with_dacs['duplicate_geometry'] = public_schools_with_dacs['geometry'].duplicated(keep=False)"
   ]
  },
  {
   "cell_type": "code",
   "execution_count": null,
   "id": "ba325a3c",
   "metadata": {},
   "outputs": [],
   "source": [
    "public_school_points[public_school_points['Location Name'].isin(['P.S. 112 Jose Celso Barbosa', 'P.S. 206 Jose Celso Barbosa' ])]"
   ]
  },
  {
   "cell_type": "code",
   "execution_count": null,
   "id": "c64b518b",
   "metadata": {},
   "outputs": [],
   "source": [
    "cols_to_keep_from_schools = ['Location Code', 'Location Name', 'Administrative District Name', 'Principal Name', 'Principal Phone Number', 'Primary Address', 'Zip', 'Borough Block Lot']\n",
    "cols_to_keep_from_dacs = ['combined_score', 'percentile_rank_combined_nyc', 'burden_score', 'burden_score_percentile', 'vulnerability_score','vulnerability_score_percentile']\n",
    "all_cols_to_keep = cols_to_keep_from_schools + cols_to_keep_from_dacs\n",
    "public_schools_with_dacs[all_cols_to_keep + ['geometry', 'duplicate_geometry']].head(25)"
   ]
  },
  {
   "cell_type": "code",
   "execution_count": null,
   "id": "8a8d707e",
   "metadata": {},
   "outputs": [],
   "source": [
    "public_schools_with_dacs[all_cols_to_keep + ['geometry']].head(25).explore(tiles='CartoDB positron',\n",
    "                popup=all_cols_to_keep,\n",
    "                tooltip=['Location Name'],\n",
    "                legend=True,\n",
    "                style_kwds={'fillOpacity': 0.7, 'weight': 1}\n",
    ")"
   ]
  }
 ],
 "metadata": {
  "kernelspec": {
   "display_name": "Python 3 (ipykernel)",
   "language": "python",
   "name": "python3"
  },
  "language_info": {
   "codemirror_mode": {
    "name": "ipython",
    "version": 3
   },
   "file_extension": ".py",
   "mimetype": "text/x-python",
   "name": "python",
   "nbconvert_exporter": "python",
   "pygments_lexer": "ipython3",
   "version": "3.13.7"
  }
 },
 "nbformat": 4,
 "nbformat_minor": 5
}
