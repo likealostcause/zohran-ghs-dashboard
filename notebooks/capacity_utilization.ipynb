{
 "cells": [
  {
   "cell_type": "markdown",
   "id": "34a8aa83",
   "metadata": {},
   "source": [
    "## Load Enrollment Capacity and Utilization Data\n",
    "\n",
    "\n",
    "Questions: \n",
    "- Do we use building enrollment/capacity or school enrollment/capacity?\n",
    "- What threshold do we use for pct utilization to indicate burden?\n",
    "    - The language in the policy memo is \"whether it meets the capacity of enrollment demands\", which I interpret as less than or equal to 100% Utilization. But that leaves us with a lot of options"
   ]
  },
  {
   "cell_type": "code",
   "execution_count": null,
   "id": "8cbfbacb",
   "metadata": {},
   "outputs": [],
   "source": [
    "import pandas as pd"
   ]
  },
  {
   "cell_type": "code",
   "execution_count": null,
   "id": "1c8abb60",
   "metadata": {},
   "outputs": [],
   "source": [
    "capacity_utilization_df = pd.read_csv('../data/raw_data/SCA/Capacity and Utilization/Enrollment_Capacity_And_Utilization_Reports_20250915.csv')\n",
    "print('total records:', len(capacity_utilization_df))\n",
    "print('unique buildings:', capacity_utilization_df['Bldg ID'].nunique())\n",
    "print('unique organizations:', capacity_utilization_df['Organization Name'].nunique())"
   ]
  },
  {
   "cell_type": "code",
   "execution_count": null,
   "id": "dbe443a3",
   "metadata": {},
   "outputs": [],
   "source": [
    "# Fix data types\n",
    "# Convert 'Data As Of' to datetime\n",
    "capacity_utilization_df['Data As Of'] = pd.to_datetime(capacity_utilization_df['Data As Of'], format='%m/%d/%Y')"
   ]
  },
  {
   "cell_type": "code",
   "execution_count": null,
   "id": "e67cde31",
   "metadata": {},
   "outputs": [],
   "source": [
    "# Deduplicate by taking most recent record for each organization/building combination\n",
    "capacity_utilization_df = capacity_utilization_df.sort_values('Data As Of').drop_duplicates(subset=['Org ID', 'Bldg ID'], keep='last')"
   ]
  },
  {
   "cell_type": "code",
   "execution_count": null,
   "id": "68d98ea3",
   "metadata": {},
   "outputs": [],
   "source": [
    "pd.set_option('display.max_rows', 20)\n",
    "capacity_utilization_df[\n",
    "    ~(capacity_utilization_df['Bldg Name'].str.contains(r'P\\.S\\.', regex=True))\n",
    "    &\n",
    "    (capacity_utilization_df['Bldg Name'].str.contains(r'P.S.', regex=True))\n",
    "]"
   ]
  },
  {
   "cell_type": "code",
   "execution_count": null,
   "id": "c36ac5ad",
   "metadata": {},
   "outputs": [],
   "source": [
    "# TODO: need to get 5K records down to 1.5K unique buildings\n",
    "\n",
    "# For these 837 buildings, there is an org name that matches the building name\n",
    "# ASSUMPTION: when org name==building name, this is the school whose capacity we care about.\n",
    "capacity_utilization_df[capacity_utilization_df['Bldg Name']==capacity_utilization_df['Organization Name']]['Bldg ID'].nunique()"
   ]
  },
  {
   "cell_type": "code",
   "execution_count": null,
   "id": "4d8b7239",
   "metadata": {},
   "outputs": [],
   "source": [
    "# TODO: find buildings that don't have a matching organization name\n",
    "# For each group, check if name of group appears in Organization Name column\n",
    "\n",
    "capacity_utilization_df.groupby('Bldg Name').apply(lambda x: (x['Organization Name']==x.name).any())"
   ]
  },
  {
   "cell_type": "code",
   "execution_count": null,
   "id": "4d85cee5",
   "metadata": {},
   "outputs": [],
   "source": [
    "capacity_utilization_df[capacity_utilization_df['Bldg Name']=='51ST AVENUE ACADEMY - Q']"
   ]
  },
  {
   "cell_type": "code",
   "execution_count": null,
   "id": "13d096de",
   "metadata": {},
   "outputs": [],
   "source": [
    "capacity_utilization_df[capacity_utilization_df['Bldg Name']=='1368 FULTON STREET']"
   ]
  },
  {
   "cell_type": "markdown",
   "id": "8ed64505",
   "metadata": {},
   "source": [
    "## Join Schools Data"
   ]
  },
  {
   "cell_type": "markdown",
   "id": "8601d96d",
   "metadata": {},
   "source": [
    "Load Schools Data"
   ]
  },
  {
   "cell_type": "code",
   "execution_count": null,
   "id": "4c91a910",
   "metadata": {},
   "outputs": [],
   "source": [
    "import geopandas as gpd\n",
    "schools = gpd.read_file('../data/processed_data/school_points_with_lcgms.gpkg')"
   ]
  },
  {
   "cell_type": "code",
   "execution_count": null,
   "id": "9f595043",
   "metadata": {},
   "outputs": [],
   "source": [
    "# AHA -- need to merge on Org ID not Bldg ID. Still missing some tho\n",
    "schools_capacity_merged = schools[['Location Code', 'Location Name']].merge(\n",
    "    capacity_utilization_df[['Org ID', 'Organization Name', 'Data As Of']].drop_duplicates(subset='Org ID'), \n",
    "    left_on='Location Code', \n",
    "    right_on='Org ID', \n",
    "    how='outer', \n",
    "    indicator=True\n",
    ")\n",
    "schools_capacity_merged['_merge'].value_counts()"
   ]
  },
  {
   "cell_type": "code",
   "execution_count": null,
   "id": "755d18a1",
   "metadata": {},
   "outputs": [],
   "source": [
    "schools_capacity_merged[\n",
    "    (schools_capacity_merged['_merge']=='right_only')\n",
    "    &\n",
    "    (schools_capacity_merged['Organization Name'].str.contains(r'[PIM]\\.S\\.', regex=True))\n",
    "    ].sort_values(\"Data As Of\", ascending=False)"
   ]
  },
  {
   "cell_type": "code",
   "execution_count": null,
   "id": "5e3951db",
   "metadata": {},
   "outputs": [],
   "source": [
    "# TODO: looks like there are 228 records from LCGMS with no matching Org ID. For these, try joining on Building ID instead\n",
    "pd.set_option('display.max_rows', 20)\n",
    "schools_capacity_merged[\n",
    "    (schools_capacity_merged['_merge']=='left_only')\n",
    "    # &\n",
    "    # (schools_capacity_merged['Organization Name'].str.contains(r'[PIM]\\.S\\.', regex=True))\n",
    "    ].sort_values(\"Data As Of\", ascending=False)"
   ]
  },
  {
   "cell_type": "code",
   "execution_count": null,
   "id": "f107a905",
   "metadata": {},
   "outputs": [],
   "source": [
    "schools_capacity_merged[schools_capacity_merged['_merge']=='left_only'].merge(capacity_utilization_df[['Bldg ID', 'Org ID', 'Organization Name', 'Data As Of']],\n",
    "                              left_on='Location Code', \n",
    "    right_on='Bldg ID', \n",
    "    how='left', \n",
    "    indicator='new_merge')[lambda x: x['new_merge']!='left_only']"
   ]
  }
 ],
 "metadata": {
  "kernelspec": {
   "display_name": "Python 3 (ipykernel)",
   "language": "python",
   "name": "python3"
  },
  "language_info": {
   "codemirror_mode": {
    "name": "ipython",
    "version": 3
   },
   "file_extension": ".py",
   "mimetype": "text/x-python",
   "name": "python",
   "nbconvert_exporter": "python",
   "pygments_lexer": "ipython3",
   "version": "3.13.7"
  }
 },
 "nbformat": 4,
 "nbformat_minor": 5
}
