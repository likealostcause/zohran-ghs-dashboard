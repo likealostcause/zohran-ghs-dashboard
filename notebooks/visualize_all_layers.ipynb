{
 "cells": [
  {
   "cell_type": "markdown",
   "id": "4b4193bb",
   "metadata": {},
   "source": [
    "# Visualization\n",
    "\n",
    "In this notebook, we will load all the different layers we've finished processing and put it into pydeck to QC data viz in jupyter."
   ]
  },
  {
   "cell_type": "code",
   "execution_count": null,
   "id": "77805dbc",
   "metadata": {},
   "outputs": [],
   "source": [
    "import pydeck as pdk\n",
    "import geopandas as gpd"
   ]
  },
  {
   "cell_type": "code",
   "execution_count": null,
   "id": "a53c5a5b",
   "metadata": {},
   "outputs": [],
   "source": [
    "# DACs Layer\n",
    "# Load the GeoJSON data\n",
    "dac_gdf = gpd.read_file('../data/processed_data/dac_nyc_full.geojson')\n",
    "# # Convert to WGS84 if needed)\n",
    "# if dac_viz.crs != 'EPSG:4326':\n",
    "#     dac_viz = dac_viz.to_crs('EPSG:4326')\n",
    "\n",
    "# Create the DACs layer\n",
    "dac_layer = pdk.Layer(\n",
    "    'GeoJsonLayer',\n",
    "    dac_gdf,\n",
    "    stroked=True,\n",
    "    line_width_units='pixels',\n",
    "    get_fill_color=[100, 200, 250, 50],\n",
    "    get_line_color=[255, 255, 255],\n",
    "    get_line_width=1,\n",
    "    pickable=True,\n",
    "    auto_highlight=True\n",
    ")"
   ]
  },
  {
   "cell_type": "code",
   "execution_count": null,
   "id": "116da230",
   "metadata": {},
   "outputs": [],
   "source": [
    "# Schools Layer\n",
    "schools_gdf = gpd.read_file('../data/processed_data/school_points_with_lcgms.geojson')\n",
    "if schools_gdf.crs != \"EPSG:4326\":\n",
    "    schools_gdf = schools_gdf.to_crs(\"EPSG:4326\")\n",
    "\n",
    "# For GeoJSON point data, don't specify get_position - let Pydeck extract from geometry\n",
    "schools_layer = pdk.Layer(\n",
    "    'GeoJsonLayer',\n",
    "    schools_gdf,\n",
    "    # Remove point_type and get_position for GeoJSON data\n",
    "    get_radius=100,  # Increased radius for better visibility\n",
    "    get_fill_color=[250, 100, 100, 200],  # Increased opacity\n",
    "    get_line_color=[255, 255, 255, 255],\n",
    "    get_line_width=1,\n",
    "    stroked=True,\n",
    "    filled=True,\n",
    "    pickable=True,\n",
    "    auto_highlight=True\n",
    ")"
   ]
  },
  {
   "cell_type": "code",
   "execution_count": null,
   "id": "3b0557de",
   "metadata": {},
   "outputs": [],
   "source": [
    "# Check the schools data structure\n",
    "print(\"Schools GDF columns:\", schools_gdf.columns.tolist())\n",
    "print(\"Schools GDF shape:\", schools_gdf.shape)\n",
    "print(\"Geometry type:\", schools_gdf.geometry.geom_type.value_counts())\n",
    "print(\"CRS:\", schools_gdf.crs)\n",
    "print(\"Sample geometry:\", schools_gdf.geometry.iloc[0])"
   ]
  },
  {
   "cell_type": "code",
   "execution_count": null,
   "id": "f66fc5a7",
   "metadata": {},
   "outputs": [],
   "source": [
    "# Set the initial view state (centered on NYC)\n",
    "view_state = pdk.ViewState(\n",
    "    latitude=40.7128,\n",
    "    longitude=-74.0060,\n",
    "    zoom=10,\n",
    "    pitch=0,\n",
    "    bearing=0\n",
    ")\n",
    "\n",
    "# Create tooltip to show information on hover\n",
    "tooltip = {\n",
    "    \"html\": \"\"\"\n",
    "    <b>Census Tract:</b> {geoid}<br/>\n",
    "    <b>County:</b> {county}<br/>\n",
    "    <b>DAC Designation:</b> {dac_designation}<br/>\n",
    "    <b>Combined Score:</b> {combined_score}<br/>\n",
    "    <b>NYC Percentile Rank:</b> {percentile_rank_combined_nyc}\n",
    "    \"\"\",\n",
    "    \"style\": {\n",
    "        \"backgroundColor\": \"steelblue\",\n",
    "        \"color\": \"white\",\n",
    "        \"padding\": \"10px\",\n",
    "        \"borderRadius\": \"5px\"\n",
    "    }\n",
    "}\n",
    "\n",
    "# Create the deck\n",
    "deck = pdk.Deck(\n",
    "    layers=[\n",
    "        # dac_layer\n",
    "        schools_layer\n",
    "    ],\n",
    "    initial_view_state=view_state,\n",
    "    tooltip=tooltip,\n",
    "    #map_style='mapbox://styles/mapbox/light-v9'\n",
    ")"
   ]
  },
  {
   "cell_type": "code",
   "execution_count": null,
   "id": "3410d529",
   "metadata": {},
   "outputs": [],
   "source": [
    "# Display the map\n",
    "deck.show()"
   ]
  }
 ],
 "metadata": {
  "kernelspec": {
   "display_name": "zohran-ghs-dashboard (3.13.5)",
   "language": "python",
   "name": "python3"
  },
  "language_info": {
   "codemirror_mode": {
    "name": "ipython",
    "version": 3
   },
   "file_extension": ".py",
   "mimetype": "text/x-python",
   "name": "python",
   "nbconvert_exporter": "python",
   "pygments_lexer": "ipython3",
   "version": "3.13.5"
  }
 },
 "nbformat": 4,
 "nbformat_minor": 5
}
