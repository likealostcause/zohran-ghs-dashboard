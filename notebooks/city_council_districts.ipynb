{
 "cells": [
  {
   "cell_type": "markdown",
   "id": "40098a93",
   "metadata": {},
   "source": [
    "# City Council Districts"
   ]
  },
  {
   "cell_type": "code",
   "execution_count": null,
   "id": "74fdbd13",
   "metadata": {},
   "outputs": [],
   "source": [
    "import pandas as pd\n",
    "import geopandas as gpd"
   ]
  },
  {
   "cell_type": "markdown",
   "id": "056a17d0",
   "metadata": {},
   "source": [
    "## Load Councilmembers' names and contact info\n",
    "The below file with councilmembers' names was downloaded on 10/19/2025 from NYC Open Data ([link](https://data.cityofnewyork.us/City-Government/Council-Members/uvw5-9znb/about_data)), then manually augmented with councilmembers' address and phone number.\n",
    "\n",
    "NOTE: will need to update this info after November 2025 elections"
   ]
  },
  {
   "cell_type": "code",
   "execution_count": null,
   "id": "f30545c4",
   "metadata": {},
   "outputs": [],
   "source": [
    "council_names = pd.read_csv('../data/processed_data/Council_Members_with_contact.csv')"
   ]
  },
  {
   "cell_type": "markdown",
   "id": "dfb26498",
   "metadata": {},
   "source": [
    "## Load Council District Geospatial file"
   ]
  },
  {
   "cell_type": "code",
   "execution_count": null,
   "id": "c6a1523f",
   "metadata": {},
   "outputs": [],
   "source": [
    "council_districts = gpd.read_file('../data/raw_data/NYC Planning/nycc_25c/nycc.shp')"
   ]
  },
  {
   "cell_type": "markdown",
   "id": "22961867",
   "metadata": {},
   "source": [
    "## Join Councilmembers' contact info onto District Geospatial"
   ]
  },
  {
   "cell_type": "code",
   "execution_count": null,
   "id": "60dd63c7",
   "metadata": {},
   "outputs": [],
   "source": [
    "council_districts = council_districts.merge(council_names, left_on='CounDist', right_on='DISTRICT').drop(columns=['DISTRICT'])"
   ]
  },
  {
   "cell_type": "markdown",
   "id": "cabf8c29",
   "metadata": {},
   "source": [
    "## Export Data"
   ]
  },
  {
   "cell_type": "code",
   "execution_count": null,
   "id": "cc0820c4",
   "metadata": {},
   "outputs": [],
   "source": [
    "council_districts.to_file('../data/processed_data/city_council_districts.geojson', driver='GeoJSON')"
   ]
  }
 ],
 "metadata": {
  "kernelspec": {
   "display_name": "Python (.venv) zohran-ghs-dashboard",
   "language": "python",
   "name": "zohran-ghs-dashboard"
  },
  "language_info": {
   "codemirror_mode": {
    "name": "ipython",
    "version": 3
   },
   "file_extension": ".py",
   "mimetype": "text/x-python",
   "name": "python",
   "nbconvert_exporter": "python",
   "pygments_lexer": "ipython3",
   "version": "3.13.7"
  }
 },
 "nbformat": 4,
 "nbformat_minor": 5
}
