{
 "cells": [
  {
   "cell_type": "markdown",
   "id": "8ebdf7fa",
   "metadata": {},
   "source": [
    "# Disadvantaged Communities (DAC)\n",
    "Source: https://data.ny.gov/Energy-Environment/Final-Disadvantaged-Communities-DAC-2023/2e6c-s6fp/about_data\n",
    "\n",
    "Last updated: July 1, 2024"
   ]
  },
  {
   "cell_type": "code",
   "execution_count": null,
   "id": "9ef5f5df",
   "metadata": {},
   "outputs": [],
   "source": [
    "import geopandas as gpd\n",
    "import numpy as np\n",
    "import pandas as pd"
   ]
  },
  {
   "cell_type": "markdown",
   "id": "b3e12a5d",
   "metadata": {},
   "source": [
    "## Process Data"
   ]
  },
  {
   "cell_type": "code",
   "execution_count": null,
   "id": "847a75f7",
   "metadata": {},
   "outputs": [],
   "source": [
    "dac_gdf = gpd.read_file('..//data/raw_data/NYSERDA/Final Disadvantaged Communities (DAC) 2023_20250731.geojson')\n",
    "\n",
    "# Assert that all records listed as 'nyc_region'=='NYC' have 'county'.isin(['New York', 'Kings', 'Queens', 'Bronx', 'Richmond'])\n",
    "assert (dac_gdf[dac_gdf['nyc_region'] == 'NYC']['county'].isin(['New York', 'Kings', 'Queens', 'Bronx', 'Richmond'])).all()\n",
    "# Assert that all records listed as 'county'.isin(['New York', 'Kings', 'Queens', 'Bronx', 'Richmond']) have 'nyc_region'=='NYC'\n",
    "assert (dac_gdf[dac_gdf['county'].isin(['New York', 'Kings', 'Queens', 'Bronx', 'Richmond'])]['nyc_region'] == 'NYC').all()\n",
    "\n",
    "# Filter to only DAC census tracts within NYC\n",
    "dac_gdf = dac_gdf[dac_gdf['nyc_region']=='NYC']\n",
    "\n",
    "dac_gdf.rename(columns={\n",
    "    # This rename of percentile_rank_combined cols is based on order of appearance in data dictionary. NYSERDA_FINALDisadvantagedCommuniesDAC_DataDictionary.pdf\n",
    "    'percentile_rank_combined': 'percentile_rank_combined_statewide',\n",
    "    'percentile_rank_combined_1': 'percentile_rank_combined_nyc',\n",
    "    'percentile_rank_combined_2': 'percentile_rank_combined_ros'\n",
    "}, inplace=True)"
   ]
  },
  {
   "cell_type": "markdown",
   "id": "d4839c61",
   "metadata": {},
   "source": [
    "Drop unnecessary columns"
   ]
  },
  {
   "cell_type": "code",
   "execution_count": null,
   "id": "92375584",
   "metadata": {},
   "outputs": [],
   "source": [
    "# Drop all columns that have only one unique value\n",
    "for col in dac_gdf.columns:\n",
    "    if dac_gdf[col].unique().size == 1:\n",
    "        print(f\"Dropping column `{col}` because it has only one unique value: {dac_gdf[col].unique()[0]}\")\n",
    "        dac_gdf.drop(columns=[col], inplace=True)\n",
    "\n",
    "# Drop unnecessary columns\n",
    "cols_to_drop = ['percentile_rank_combined_statewide', 'urban_rural']\n",
    "dac_gdf.drop(columns=cols_to_drop, inplace=True)"
   ]
  },
  {
   "cell_type": "markdown",
   "id": "fec9bdd9",
   "metadata": {},
   "source": [
    "Fix dtypes"
   ]
  },
  {
   "cell_type": "code",
   "execution_count": null,
   "id": "505c1f96",
   "metadata": {},
   "outputs": [],
   "source": [
    "# Convert dac_designation and household_low_count_flag to boolean\n",
    "dac_gdf['dac_designation'] = dac_gdf['dac_designation'] == 'Designated as DAC'\n",
    "dac_gdf['household_low_count_flag'] = dac_gdf['household_low_count_flag'] == 'Yes'\n",
    "\n",
    "# Convert all columns to numeric except those that are non-numeric, based on data dict\n",
    "non_numeric_cols = ['county', 'dac_designation', 'geoid', 'household_low_count_flag', 'geometry']\n",
    "for col in dac_gdf.columns:\n",
    "    if col not in non_numeric_cols:\n",
    "        try:\n",
    "            dac_gdf[col] = pd.to_numeric(dac_gdf[col], errors='coerce')\n",
    "        except ValueError:\n",
    "            print(f\"Column `{col}` could not be converted to numeric.\")\n"
   ]
  },
  {
   "cell_type": "markdown",
   "id": "b56314cc",
   "metadata": {},
   "source": [
    "Re-order columns"
   ]
  },
  {
   "cell_type": "code",
   "execution_count": null,
   "id": "3a4a5d2e",
   "metadata": {},
   "outputs": [],
   "source": [
    "core_cols = ['dac_designation', 'combined_score', 'percentile_rank_combined_nyc', 'burden_score', 'burden_score_percentile', 'vulnerability_score', 'vulnerability_score_percentile']\n",
    "geographic_cols = ['county', 'geoid', 'geometry']\n",
    "general_demo_cols = ['household_count', 'household_low_count_flag', 'population_count']\n",
    "\n",
    "#############################################################################################\n",
    "##### Indicators Considered to Represent Environmental Burdens and Climate Change Risks #####\n",
    "#############################################################################################\n",
    "pollution_exposure_cols = ['benzene_concentration', 'homes_built_before_1960', 'particulate_matter_25', 'traffic_number_vehicles', 'traffic_truck_highways', 'wastewater_discharge']\n",
    "land_use_cols = ['housing_vacancy_rate', 'industrial_land_use', 'oil_storage', 'power_generation_facilities', 'remediation_sites', 'rmp_sites', 'scrap_metal_processing']\n",
    "climate_risk_cols = ['agricultural_land_use', 'coastal_flooding_storm_risk', 'days_above_90_degrees_2050', 'drive_time_healthcare', 'inland_flooding_risk', 'low_vegetative_cover']\n",
    "\n",
    "####################################################################################\n",
    "##### Indicators Considered to Represent Population and Health Vulnerabilities #####\n",
    "####################################################################################\n",
    "# NOTE: Z campaign might really like using 'renter_percent' and 'home_energy_affordability' columns\n",
    "income_edu_empl_cols = ['household_single_parent', 'lmi_80_ami', 'lmi_poverty_federal', 'population_no_college', 'unemployment_rate']\n",
    "race_lang_cols = ['asian_percent', 'black_african_american_percent', 'english_proficiency', 'latino_percent', 'native_indigenous', 'redlining_updated']\n",
    "health_cols = ['age_over_65','asthma_ed_rate', 'copd_ed_rate', 'health_insurance_rate', 'households_disabled', 'low_birth_weight', 'mi_hospitalization_rate', 'premature_deaths']\n",
    "housing_cols = ['home_energy_affordability', 'renter_percent', 'rent_percent_income', 'mobile_homes', 'internet_access']\n",
    "\n",
    "\n",
    "# Combine all defined column lists\n",
    "all_defined_cols_in_order = core_cols + pollution_exposure_cols + land_use_cols + climate_risk_cols + income_edu_empl_cols + race_lang_cols + health_cols + housing_cols + general_demo_cols + geographic_cols\n",
    "\n",
    "# Assert that the above lists cover all columns\n",
    "assert len(dac_gdf.columns[~dac_gdf.columns.isin(all_defined_cols_in_order)]) == 0\n",
    "\n",
    "# Re-order columns\n",
    "# TODO: Should I do multi-index to capture the different categories of columns?\n",
    "dac_gdf = dac_gdf[all_defined_cols_in_order]"
   ]
  },
  {
   "cell_type": "code",
   "execution_count": null,
   "id": "c57cee0b",
   "metadata": {},
   "outputs": [],
   "source": [
    "dac_gdf.__class__.__module__"
   ]
  },
  {
   "cell_type": "code",
   "execution_count": null,
   "id": "b6045652",
   "metadata": {},
   "outputs": [],
   "source": [
    "dac_gdf.head()"
   ]
  },
  {
   "cell_type": "markdown",
   "id": "f7c4b3b9",
   "metadata": {},
   "source": [
    "## Sanity Check: Visualize Data with Geopandas"
   ]
  },
  {
   "cell_type": "code",
   "execution_count": null,
   "id": "ad1344b8",
   "metadata": {},
   "outputs": [],
   "source": [
    "dac_gdf.explore(tiles='CartoDB positron',\n",
    "                popup=housing_cols,  # Show these fields on click\n",
    "                tooltip=['dac_designation', 'percentile_rank_combined_nyc', 'combined_score'],  # Show on hover\n",
    "                legend=True,\n",
    "                color='dac_designation',\n",
    "                style_kwds={'fillOpacity': 0.7, 'weight': 1}\n",
    ")"
   ]
  },
  {
   "cell_type": "markdown",
   "id": "ac634783",
   "metadata": {},
   "source": [
    "## Export to `processed_data` folder as GeoJSON"
   ]
  },
  {
   "cell_type": "code",
   "execution_count": null,
   "id": "72f6b0f1",
   "metadata": {},
   "outputs": [],
   "source": [
    "# Export the full version with all defined columns\n",
    "dac_gdf.to_file('../data/processed_data/dac_nyc_full.geojson', driver='GeoJSON')\n",
    "\n",
    "# Export a lite version with only core and geographic columns, filtering for dac_designation == True\n",
    "dac_gdf_lite = dac_gdf[dac_gdf['dac_designation'] == True][core_cols + geographic_cols]\n",
    "dac_gdf_lite.to_file('../data/processed_data/dac_nyc_lite.geojson', driver='GeoJSON')"
   ]
  }
 ],
 "metadata": {
  "kernelspec": {
   "display_name": "Python (.venv) zohran-ghs-dashboard",
   "language": "python",
   "name": "zohran-ghs-dashboard"
  },
  "language_info": {
   "codemirror_mode": {
    "name": "ipython",
    "version": 3
   },
   "file_extension": ".py",
   "mimetype": "text/x-python",
   "name": "python",
   "nbconvert_exporter": "python",
   "pygments_lexer": "ipython3",
   "version": "3.13.7"
  }
 },
 "nbformat": 4,
 "nbformat_minor": 5
}
