{
 "cells": [
  {
   "cell_type": "markdown",
   "id": "8ebdf7fa",
   "metadata": {},
   "source": [
    "# Disadvantaged Communities (DAC)\n",
    "Source: https://data.ny.gov/Energy-Environment/Final-Disadvantaged-Communities-DAC-2023/2e6c-s6fp/about_data\n",
    "\n",
    "Last updated: July 1, 2024"
   ]
  },
  {
   "cell_type": "code",
   "execution_count": 1,
   "id": "9ef5f5df",
   "metadata": {},
   "outputs": [],
   "source": [
    "import geopandas as gpd\n",
    "import numpy as np\n",
    "import pandas as pd"
   ]
  },
  {
   "cell_type": "markdown",
   "id": "b3e12a5d",
   "metadata": {},
   "source": [
    "## Process Data"
   ]
  },
  {
   "cell_type": "code",
   "execution_count": 2,
   "id": "847a75f7",
   "metadata": {},
   "outputs": [
    {
     "ename": "DataSourceError",
     "evalue": "..//data/raw_data/NYSERDA/Final Disadvantaged Communities (DAC) 2023_20250731.geojson: No such file or directory",
     "output_type": "error",
     "traceback": [
      "\u001b[31m---------------------------------------------------------------------------\u001b[39m",
      "\u001b[31mDataSourceError\u001b[39m                           Traceback (most recent call last)",
      "\u001b[36mCell\u001b[39m\u001b[36m \u001b[39m\u001b[32mIn[2]\u001b[39m\u001b[32m, line 1\u001b[39m\n\u001b[32m----> \u001b[39m\u001b[32m1\u001b[39m dac_gdf = \u001b[43mgpd\u001b[49m\u001b[43m.\u001b[49m\u001b[43mread_file\u001b[49m\u001b[43m(\u001b[49m\u001b[33;43m'\u001b[39;49m\u001b[33;43m..//data/raw_data/NYSERDA/Final Disadvantaged Communities (DAC) 2023_20250731.geojson\u001b[39;49m\u001b[33;43m'\u001b[39;49m\u001b[43m)\u001b[49m\n\u001b[32m      3\u001b[39m \u001b[38;5;66;03m# Assert that all records listed as 'nyc_region'=='NYC' have 'county'.isin(['New York', 'Kings', 'Queens', 'Bronx', 'Richmond'])\u001b[39;00m\n\u001b[32m      4\u001b[39m \u001b[38;5;28;01massert\u001b[39;00m (dac_gdf[dac_gdf[\u001b[33m'\u001b[39m\u001b[33mnyc_region\u001b[39m\u001b[33m'\u001b[39m] == \u001b[33m'\u001b[39m\u001b[33mNYC\u001b[39m\u001b[33m'\u001b[39m][\u001b[33m'\u001b[39m\u001b[33mcounty\u001b[39m\u001b[33m'\u001b[39m].isin([\u001b[33m'\u001b[39m\u001b[33mNew York\u001b[39m\u001b[33m'\u001b[39m, \u001b[33m'\u001b[39m\u001b[33mKings\u001b[39m\u001b[33m'\u001b[39m, \u001b[33m'\u001b[39m\u001b[33mQueens\u001b[39m\u001b[33m'\u001b[39m, \u001b[33m'\u001b[39m\u001b[33mBronx\u001b[39m\u001b[33m'\u001b[39m, \u001b[33m'\u001b[39m\u001b[33mRichmond\u001b[39m\u001b[33m'\u001b[39m])).all()\n",
      "\u001b[36mFile \u001b[39m\u001b[32m/Library/Frameworks/Python.framework/Versions/3.13/lib/python3.13/site-packages/geopandas/io/file.py:316\u001b[39m, in \u001b[36m_read_file\u001b[39m\u001b[34m(filename, bbox, mask, columns, rows, engine, **kwargs)\u001b[39m\n\u001b[32m    313\u001b[39m             filename = response.read()\n\u001b[32m    315\u001b[39m \u001b[38;5;28;01mif\u001b[39;00m engine == \u001b[33m\"\u001b[39m\u001b[33mpyogrio\u001b[39m\u001b[33m\"\u001b[39m:\n\u001b[32m--> \u001b[39m\u001b[32m316\u001b[39m     \u001b[38;5;28;01mreturn\u001b[39;00m \u001b[43m_read_file_pyogrio\u001b[49m\u001b[43m(\u001b[49m\n\u001b[32m    317\u001b[39m \u001b[43m        \u001b[49m\u001b[43mfilename\u001b[49m\u001b[43m,\u001b[49m\u001b[43m \u001b[49m\u001b[43mbbox\u001b[49m\u001b[43m=\u001b[49m\u001b[43mbbox\u001b[49m\u001b[43m,\u001b[49m\u001b[43m \u001b[49m\u001b[43mmask\u001b[49m\u001b[43m=\u001b[49m\u001b[43mmask\u001b[49m\u001b[43m,\u001b[49m\u001b[43m \u001b[49m\u001b[43mcolumns\u001b[49m\u001b[43m=\u001b[49m\u001b[43mcolumns\u001b[49m\u001b[43m,\u001b[49m\u001b[43m \u001b[49m\u001b[43mrows\u001b[49m\u001b[43m=\u001b[49m\u001b[43mrows\u001b[49m\u001b[43m,\u001b[49m\u001b[43m \u001b[49m\u001b[43m*\u001b[49m\u001b[43m*\u001b[49m\u001b[43mkwargs\u001b[49m\n\u001b[32m    318\u001b[39m \u001b[43m    \u001b[49m\u001b[43m)\u001b[49m\n\u001b[32m    320\u001b[39m \u001b[38;5;28;01melif\u001b[39;00m engine == \u001b[33m\"\u001b[39m\u001b[33mfiona\u001b[39m\u001b[33m\"\u001b[39m:\n\u001b[32m    321\u001b[39m     \u001b[38;5;28;01mif\u001b[39;00m pd.api.types.is_file_like(filename):\n",
      "\u001b[36mFile \u001b[39m\u001b[32m/Library/Frameworks/Python.framework/Versions/3.13/lib/python3.13/site-packages/geopandas/io/file.py:576\u001b[39m, in \u001b[36m_read_file_pyogrio\u001b[39m\u001b[34m(path_or_bytes, bbox, mask, rows, **kwargs)\u001b[39m\n\u001b[32m    567\u001b[39m     warnings.warn(\n\u001b[32m    568\u001b[39m         \u001b[33m\"\u001b[39m\u001b[33mThe \u001b[39m\u001b[33m'\u001b[39m\u001b[33minclude_fields\u001b[39m\u001b[33m'\u001b[39m\u001b[33m and \u001b[39m\u001b[33m'\u001b[39m\u001b[33mignore_fields\u001b[39m\u001b[33m'\u001b[39m\u001b[33m keywords are deprecated, and \u001b[39m\u001b[33m\"\u001b[39m\n\u001b[32m    569\u001b[39m         \u001b[33m\"\u001b[39m\u001b[33mwill be removed in a future release. You can use the \u001b[39m\u001b[33m'\u001b[39m\u001b[33mcolumns\u001b[39m\u001b[33m'\u001b[39m\u001b[33m keyword \u001b[39m\u001b[33m\"\u001b[39m\n\u001b[32m   (...)\u001b[39m\u001b[32m    572\u001b[39m         stacklevel=\u001b[32m3\u001b[39m,\n\u001b[32m    573\u001b[39m     )\n\u001b[32m    574\u001b[39m     kwargs[\u001b[33m\"\u001b[39m\u001b[33mcolumns\u001b[39m\u001b[33m\"\u001b[39m] = kwargs.pop(\u001b[33m\"\u001b[39m\u001b[33minclude_fields\u001b[39m\u001b[33m\"\u001b[39m)\n\u001b[32m--> \u001b[39m\u001b[32m576\u001b[39m \u001b[38;5;28;01mreturn\u001b[39;00m \u001b[43mpyogrio\u001b[49m\u001b[43m.\u001b[49m\u001b[43mread_dataframe\u001b[49m\u001b[43m(\u001b[49m\u001b[43mpath_or_bytes\u001b[49m\u001b[43m,\u001b[49m\u001b[43m \u001b[49m\u001b[43mbbox\u001b[49m\u001b[43m=\u001b[49m\u001b[43mbbox\u001b[49m\u001b[43m,\u001b[49m\u001b[43m \u001b[49m\u001b[43m*\u001b[49m\u001b[43m*\u001b[49m\u001b[43mkwargs\u001b[49m\u001b[43m)\u001b[49m\n",
      "\u001b[36mFile \u001b[39m\u001b[32m/Library/Frameworks/Python.framework/Versions/3.13/lib/python3.13/site-packages/pyogrio/geopandas.py:275\u001b[39m, in \u001b[36mread_dataframe\u001b[39m\u001b[34m(path_or_buffer, layer, encoding, columns, read_geometry, force_2d, skip_features, max_features, where, bbox, mask, fids, sql, sql_dialect, fid_as_index, use_arrow, on_invalid, arrow_to_pandas_kwargs, **kwargs)\u001b[39m\n\u001b[32m    270\u001b[39m \u001b[38;5;28;01mif\u001b[39;00m \u001b[38;5;129;01mnot\u001b[39;00m use_arrow:\n\u001b[32m    271\u001b[39m     \u001b[38;5;66;03m# For arrow, datetimes are read as is.\u001b[39;00m\n\u001b[32m    272\u001b[39m     \u001b[38;5;66;03m# For numpy IO, datetimes are read as string values to preserve timezone info\u001b[39;00m\n\u001b[32m    273\u001b[39m     \u001b[38;5;66;03m# as numpy does not directly support timezones.\u001b[39;00m\n\u001b[32m    274\u001b[39m     kwargs[\u001b[33m\"\u001b[39m\u001b[33mdatetime_as_string\u001b[39m\u001b[33m\"\u001b[39m] = \u001b[38;5;28;01mTrue\u001b[39;00m\n\u001b[32m--> \u001b[39m\u001b[32m275\u001b[39m result = \u001b[43mread_func\u001b[49m\u001b[43m(\u001b[49m\n\u001b[32m    276\u001b[39m \u001b[43m    \u001b[49m\u001b[43mpath_or_buffer\u001b[49m\u001b[43m,\u001b[49m\n\u001b[32m    277\u001b[39m \u001b[43m    \u001b[49m\u001b[43mlayer\u001b[49m\u001b[43m=\u001b[49m\u001b[43mlayer\u001b[49m\u001b[43m,\u001b[49m\n\u001b[32m    278\u001b[39m \u001b[43m    \u001b[49m\u001b[43mencoding\u001b[49m\u001b[43m=\u001b[49m\u001b[43mencoding\u001b[49m\u001b[43m,\u001b[49m\n\u001b[32m    279\u001b[39m \u001b[43m    \u001b[49m\u001b[43mcolumns\u001b[49m\u001b[43m=\u001b[49m\u001b[43mcolumns\u001b[49m\u001b[43m,\u001b[49m\n\u001b[32m    280\u001b[39m \u001b[43m    \u001b[49m\u001b[43mread_geometry\u001b[49m\u001b[43m=\u001b[49m\u001b[43mread_geometry\u001b[49m\u001b[43m,\u001b[49m\n\u001b[32m    281\u001b[39m \u001b[43m    \u001b[49m\u001b[43mforce_2d\u001b[49m\u001b[43m=\u001b[49m\u001b[43mgdal_force_2d\u001b[49m\u001b[43m,\u001b[49m\n\u001b[32m    282\u001b[39m \u001b[43m    \u001b[49m\u001b[43mskip_features\u001b[49m\u001b[43m=\u001b[49m\u001b[43mskip_features\u001b[49m\u001b[43m,\u001b[49m\n\u001b[32m    283\u001b[39m \u001b[43m    \u001b[49m\u001b[43mmax_features\u001b[49m\u001b[43m=\u001b[49m\u001b[43mmax_features\u001b[49m\u001b[43m,\u001b[49m\n\u001b[32m    284\u001b[39m \u001b[43m    \u001b[49m\u001b[43mwhere\u001b[49m\u001b[43m=\u001b[49m\u001b[43mwhere\u001b[49m\u001b[43m,\u001b[49m\n\u001b[32m    285\u001b[39m \u001b[43m    \u001b[49m\u001b[43mbbox\u001b[49m\u001b[43m=\u001b[49m\u001b[43mbbox\u001b[49m\u001b[43m,\u001b[49m\n\u001b[32m    286\u001b[39m \u001b[43m    \u001b[49m\u001b[43mmask\u001b[49m\u001b[43m=\u001b[49m\u001b[43mmask\u001b[49m\u001b[43m,\u001b[49m\n\u001b[32m    287\u001b[39m \u001b[43m    \u001b[49m\u001b[43mfids\u001b[49m\u001b[43m=\u001b[49m\u001b[43mfids\u001b[49m\u001b[43m,\u001b[49m\n\u001b[32m    288\u001b[39m \u001b[43m    \u001b[49m\u001b[43msql\u001b[49m\u001b[43m=\u001b[49m\u001b[43msql\u001b[49m\u001b[43m,\u001b[49m\n\u001b[32m    289\u001b[39m \u001b[43m    \u001b[49m\u001b[43msql_dialect\u001b[49m\u001b[43m=\u001b[49m\u001b[43msql_dialect\u001b[49m\u001b[43m,\u001b[49m\n\u001b[32m    290\u001b[39m \u001b[43m    \u001b[49m\u001b[43mreturn_fids\u001b[49m\u001b[43m=\u001b[49m\u001b[43mfid_as_index\u001b[49m\u001b[43m,\u001b[49m\n\u001b[32m    291\u001b[39m \u001b[43m    \u001b[49m\u001b[43m*\u001b[49m\u001b[43m*\u001b[49m\u001b[43mkwargs\u001b[49m\u001b[43m,\u001b[49m\n\u001b[32m    292\u001b[39m \u001b[43m\u001b[49m\u001b[43m)\u001b[49m\n\u001b[32m    294\u001b[39m \u001b[38;5;28;01mif\u001b[39;00m use_arrow:\n\u001b[32m    295\u001b[39m     \u001b[38;5;28;01mimport\u001b[39;00m\u001b[38;5;250m \u001b[39m\u001b[34;01mpyarrow\u001b[39;00m\u001b[38;5;250m \u001b[39m\u001b[38;5;28;01mas\u001b[39;00m\u001b[38;5;250m \u001b[39m\u001b[34;01mpa\u001b[39;00m\n",
      "\u001b[36mFile \u001b[39m\u001b[32m/Library/Frameworks/Python.framework/Versions/3.13/lib/python3.13/site-packages/pyogrio/raw.py:198\u001b[39m, in \u001b[36mread\u001b[39m\u001b[34m(path_or_buffer, layer, encoding, columns, read_geometry, force_2d, skip_features, max_features, where, bbox, mask, fids, sql, sql_dialect, return_fids, datetime_as_string, **kwargs)\u001b[39m\n\u001b[32m     59\u001b[39m \u001b[38;5;250m\u001b[39m\u001b[33;03m\"\"\"Read OGR data source into numpy arrays.\u001b[39;00m\n\u001b[32m     60\u001b[39m \n\u001b[32m     61\u001b[39m \u001b[33;03mIMPORTANT: non-linear geometry types (e.g., MultiSurface) are converted\u001b[39;00m\n\u001b[32m   (...)\u001b[39m\u001b[32m    194\u001b[39m \n\u001b[32m    195\u001b[39m \u001b[33;03m\"\"\"\u001b[39;00m\n\u001b[32m    196\u001b[39m dataset_kwargs = _preprocess_options_key_value(kwargs) \u001b[38;5;28;01mif\u001b[39;00m kwargs \u001b[38;5;28;01melse\u001b[39;00m {}\n\u001b[32m--> \u001b[39m\u001b[32m198\u001b[39m \u001b[38;5;28;01mreturn\u001b[39;00m \u001b[43mogr_read\u001b[49m\u001b[43m(\u001b[49m\n\u001b[32m    199\u001b[39m \u001b[43m    \u001b[49m\u001b[43mget_vsi_path_or_buffer\u001b[49m\u001b[43m(\u001b[49m\u001b[43mpath_or_buffer\u001b[49m\u001b[43m)\u001b[49m\u001b[43m,\u001b[49m\n\u001b[32m    200\u001b[39m \u001b[43m    \u001b[49m\u001b[43mlayer\u001b[49m\u001b[43m=\u001b[49m\u001b[43mlayer\u001b[49m\u001b[43m,\u001b[49m\n\u001b[32m    201\u001b[39m \u001b[43m    \u001b[49m\u001b[43mencoding\u001b[49m\u001b[43m=\u001b[49m\u001b[43mencoding\u001b[49m\u001b[43m,\u001b[49m\n\u001b[32m    202\u001b[39m \u001b[43m    \u001b[49m\u001b[43mcolumns\u001b[49m\u001b[43m=\u001b[49m\u001b[43mcolumns\u001b[49m\u001b[43m,\u001b[49m\n\u001b[32m    203\u001b[39m \u001b[43m    \u001b[49m\u001b[43mread_geometry\u001b[49m\u001b[43m=\u001b[49m\u001b[43mread_geometry\u001b[49m\u001b[43m,\u001b[49m\n\u001b[32m    204\u001b[39m \u001b[43m    \u001b[49m\u001b[43mforce_2d\u001b[49m\u001b[43m=\u001b[49m\u001b[43mforce_2d\u001b[49m\u001b[43m,\u001b[49m\n\u001b[32m    205\u001b[39m \u001b[43m    \u001b[49m\u001b[43mskip_features\u001b[49m\u001b[43m=\u001b[49m\u001b[43mskip_features\u001b[49m\u001b[43m,\u001b[49m\n\u001b[32m    206\u001b[39m \u001b[43m    \u001b[49m\u001b[43mmax_features\u001b[49m\u001b[43m=\u001b[49m\u001b[43mmax_features\u001b[49m\u001b[43m \u001b[49m\u001b[38;5;129;43;01mor\u001b[39;49;00m\u001b[43m \u001b[49m\u001b[32;43m0\u001b[39;49m\u001b[43m,\u001b[49m\n\u001b[32m    207\u001b[39m \u001b[43m    \u001b[49m\u001b[43mwhere\u001b[49m\u001b[43m=\u001b[49m\u001b[43mwhere\u001b[49m\u001b[43m,\u001b[49m\n\u001b[32m    208\u001b[39m \u001b[43m    \u001b[49m\u001b[43mbbox\u001b[49m\u001b[43m=\u001b[49m\u001b[43mbbox\u001b[49m\u001b[43m,\u001b[49m\n\u001b[32m    209\u001b[39m \u001b[43m    \u001b[49m\u001b[43mmask\u001b[49m\u001b[43m=\u001b[49m\u001b[43m_mask_to_wkb\u001b[49m\u001b[43m(\u001b[49m\u001b[43mmask\u001b[49m\u001b[43m)\u001b[49m\u001b[43m,\u001b[49m\n\u001b[32m    210\u001b[39m \u001b[43m    \u001b[49m\u001b[43mfids\u001b[49m\u001b[43m=\u001b[49m\u001b[43mfids\u001b[49m\u001b[43m,\u001b[49m\n\u001b[32m    211\u001b[39m \u001b[43m    \u001b[49m\u001b[43msql\u001b[49m\u001b[43m=\u001b[49m\u001b[43msql\u001b[49m\u001b[43m,\u001b[49m\n\u001b[32m    212\u001b[39m \u001b[43m    \u001b[49m\u001b[43msql_dialect\u001b[49m\u001b[43m=\u001b[49m\u001b[43msql_dialect\u001b[49m\u001b[43m,\u001b[49m\n\u001b[32m    213\u001b[39m \u001b[43m    \u001b[49m\u001b[43mreturn_fids\u001b[49m\u001b[43m=\u001b[49m\u001b[43mreturn_fids\u001b[49m\u001b[43m,\u001b[49m\n\u001b[32m    214\u001b[39m \u001b[43m    \u001b[49m\u001b[43mdataset_kwargs\u001b[49m\u001b[43m=\u001b[49m\u001b[43mdataset_kwargs\u001b[49m\u001b[43m,\u001b[49m\n\u001b[32m    215\u001b[39m \u001b[43m    \u001b[49m\u001b[43mdatetime_as_string\u001b[49m\u001b[43m=\u001b[49m\u001b[43mdatetime_as_string\u001b[49m\u001b[43m,\u001b[49m\n\u001b[32m    216\u001b[39m \u001b[43m\u001b[49m\u001b[43m)\u001b[49m\n",
      "\u001b[36mFile \u001b[39m\u001b[32mpyogrio/_io.pyx:1313\u001b[39m, in \u001b[36mpyogrio._io.ogr_read\u001b[39m\u001b[34m()\u001b[39m\n",
      "\u001b[36mFile \u001b[39m\u001b[32mpyogrio/_io.pyx:232\u001b[39m, in \u001b[36mpyogrio._io.ogr_open\u001b[39m\u001b[34m()\u001b[39m\n",
      "\u001b[31mDataSourceError\u001b[39m: ..//data/raw_data/NYSERDA/Final Disadvantaged Communities (DAC) 2023_20250731.geojson: No such file or directory"
     ]
    }
   ],
   "source": [
    "dac_gdf = gpd.read_file('..//data/raw_data/NYSERDA/Final Disadvantaged Communities (DAC) 2023_20250731.geojson')\n",
    "\n",
    "# Assert that all records listed as 'nyc_region'=='NYC' have 'county'.isin(['New York', 'Kings', 'Queens', 'Bronx', 'Richmond'])\n",
    "assert (dac_gdf[dac_gdf['nyc_region'] == 'NYC']['county'].isin(['New York', 'Kings', 'Queens', 'Bronx', 'Richmond'])).all()\n",
    "# Assert that all records listed as 'county'.isin(['New York', 'Kings', 'Queens', 'Bronx', 'Richmond']) have 'nyc_region'=='NYC'\n",
    "assert (dac_gdf[dac_gdf['county'].isin(['New York', 'Kings', 'Queens', 'Bronx', 'Richmond'])]['nyc_region'] == 'NYC').all()\n",
    "\n",
    "# Filter to only DAC census tracts within NYC\n",
    "dac_gdf = dac_gdf[dac_gdf['nyc_region']=='NYC']\n",
    "\n",
    "dac_gdf.rename(columns={\n",
    "    # This rename of percentile_rank_combined cols is based on order of appearance in data dictionary. NYSERDA_FINALDisadvantagedCommuniesDAC_DataDictionary.pdf\n",
    "    'percentile_rank_combined': 'percentile_rank_combined_statewide',\n",
    "    'percentile_rank_combined_1': 'percentile_rank_combined_nyc',\n",
    "    'percentile_rank_combined_2': 'percentile_rank_combined_ros'\n",
    "}, inplace=True)"
   ]
  },
  {
   "cell_type": "markdown",
   "id": "d4839c61",
   "metadata": {},
   "source": [
    "Drop unnecessary columns"
   ]
  },
  {
   "cell_type": "code",
   "execution_count": null,
   "id": "92375584",
   "metadata": {},
   "outputs": [],
   "source": [
    "# Drop all columns that have only one unique value\n",
    "for col in dac_gdf.columns:\n",
    "    if dac_gdf[col].unique().size == 1:\n",
    "        print(f\"Dropping column `{col}` because it has only one unique value: {dac_gdf[col].unique()[0]}\")\n",
    "        dac_gdf.drop(columns=[col], inplace=True)\n",
    "\n",
    "# Drop unnecessary columns\n",
    "cols_to_drop = ['percentile_rank_combined_statewide', 'urban_rural']\n",
    "dac_gdf.drop(columns=cols_to_drop, inplace=True)"
   ]
  },
  {
   "cell_type": "markdown",
   "id": "fec9bdd9",
   "metadata": {},
   "source": [
    "Fix dtypes"
   ]
  },
  {
   "cell_type": "code",
   "execution_count": null,
   "id": "505c1f96",
   "metadata": {},
   "outputs": [],
   "source": [
    "# Convert dac_designation and household_low_count_flag to boolean\n",
    "dac_gdf['dac_designation'] = dac_gdf['dac_designation'] == 'Designated as DAC'\n",
    "dac_gdf['household_low_count_flag'] = dac_gdf['household_low_count_flag'] == 'Yes'\n",
    "\n",
    "# Convert all columns to numeric except those that are non-numeric, based on data dict\n",
    "non_numeric_cols = ['county', 'dac_designation', 'geoid', 'household_low_count_flag', 'geometry']\n",
    "for col in dac_gdf.columns:\n",
    "    if col not in non_numeric_cols:\n",
    "        try:\n",
    "            dac_gdf[col] = pd.to_numeric(dac_gdf[col], errors='coerce')\n",
    "        except ValueError:\n",
    "            print(f\"Column `{col}` could not be converted to numeric.\")\n"
   ]
  },
  {
   "cell_type": "markdown",
   "id": "b56314cc",
   "metadata": {},
   "source": [
    "Re-order columns"
   ]
  },
  {
   "cell_type": "code",
   "execution_count": null,
   "id": "3a4a5d2e",
   "metadata": {},
   "outputs": [],
   "source": [
    "core_cols = ['dac_designation', 'combined_score', 'percentile_rank_combined_nyc', 'burden_score', 'burden_score_percentile', 'vulnerability_score', 'vulnerability_score_percentile']\n",
    "geographic_cols = ['county', 'geoid', 'geometry']\n",
    "general_demo_cols = ['household_count', 'household_low_count_flag', 'population_count']\n",
    "\n",
    "#############################################################################################\n",
    "##### Indicators Considered to Represent Environmental Burdens and Climate Change Risks #####\n",
    "#############################################################################################\n",
    "pollution_exposure_cols = ['benzene_concentration', 'homes_built_before_1960', 'particulate_matter_25', 'traffic_number_vehicles', 'traffic_truck_highways', 'wastewater_discharge']\n",
    "land_use_cols = ['housing_vacancy_rate', 'industrial_land_use', 'oil_storage', 'power_generation_facilities', 'remediation_sites', 'rmp_sites', 'scrap_metal_processing']\n",
    "climate_risk_cols = ['agricultural_land_use', 'coastal_flooding_storm_risk', 'days_above_90_degrees_2050', 'drive_time_healthcare', 'inland_flooding_risk', 'low_vegetative_cover']\n",
    "\n",
    "####################################################################################\n",
    "##### Indicators Considered to Represent Population and Health Vulnerabilities #####\n",
    "####################################################################################\n",
    "# NOTE: Z campaign might really like using 'renter_percent' and 'home_energy_affordability' columns\n",
    "income_edu_empl_cols = ['household_single_parent', 'lmi_80_ami', 'lmi_poverty_federal', 'population_no_college', 'unemployment_rate']\n",
    "race_lang_cols = ['asian_percent', 'black_african_american_percent', 'english_proficiency', 'latino_percent', 'native_indigenous', 'redlining_updated']\n",
    "health_cols = ['age_over_65','asthma_ed_rate', 'copd_ed_rate', 'health_insurance_rate', 'households_disabled', 'low_birth_weight', 'mi_hospitalization_rate', 'premature_deaths']\n",
    "housing_cols = ['home_energy_affordability', 'renter_percent', 'rent_percent_income', 'mobile_homes', 'internet_access']\n",
    "\n",
    "\n",
    "# Combine all defined column lists\n",
    "all_defined_cols_in_order = core_cols + pollution_exposure_cols + land_use_cols + climate_risk_cols + income_edu_empl_cols + race_lang_cols + health_cols + housing_cols + general_demo_cols + geographic_cols\n",
    "\n",
    "# Assert that the above lists cover all columns\n",
    "assert len(dac_gdf.columns[~dac_gdf.columns.isin(all_defined_cols_in_order)]) == 0\n",
    "\n",
    "# Re-order columns\n",
    "# TODO: Should I do multi-index to capture the different categories of columns?\n",
    "dac_gdf = dac_gdf[all_defined_cols_in_order]"
   ]
  },
  {
   "cell_type": "code",
   "execution_count": null,
   "id": "c57cee0b",
   "metadata": {},
   "outputs": [],
   "source": [
    "dac_gdf.__class__.__module__"
   ]
  },
  {
   "cell_type": "code",
   "execution_count": null,
   "id": "b6045652",
   "metadata": {},
   "outputs": [],
   "source": [
    "dac_gdf.head()"
   ]
  },
  {
   "cell_type": "markdown",
   "id": "f7c4b3b9",
   "metadata": {},
   "source": [
    "## Sanity Check: Visualize Data with Geopandas"
   ]
  },
  {
   "cell_type": "code",
   "execution_count": null,
   "id": "ad1344b8",
   "metadata": {},
   "outputs": [],
   "source": [
    "dac_gdf.explore(tiles='CartoDB positron',\n",
    "                popup=housing_cols,  # Show these fields on click\n",
    "                tooltip=['dac_designation', 'percentile_rank_combined_nyc', 'combined_score'],  # Show on hover\n",
    "                legend=True,\n",
    "                color='dac_designation',\n",
    "                style_kwds={'fillOpacity': 0.7, 'weight': 1}\n",
    ")"
   ]
  },
  {
   "cell_type": "markdown",
   "id": "ac634783",
   "metadata": {},
   "source": [
    "## Export to `processed_data` folder as GeoJSON"
   ]
  },
  {
   "cell_type": "code",
   "execution_count": null,
   "id": "72f6b0f1",
   "metadata": {},
   "outputs": [],
   "source": [
    "# Export the full version with all defined columns\n",
    "dac_gdf.to_file('../data/processed_data/dac_nyc_full.geojson', driver='GeoJSON')\n",
    "\n",
    "# Export a lite version with only core and geographic columns, filtering for dac_designation == True\n",
    "dac_gdf_lite = dac_gdf[dac_gdf['dac_designation'] == True][core_cols + geographic_cols]\n",
    "dac_gdf_lite.to_file('../data/processed_data/dac_nyc_lite.geojson', driver='GeoJSON')"
   ]
  }
 ],
 "metadata": {
  "kernelspec": {
   "display_name": "Python 3 (ipykernel)",
   "language": "python",
   "name": "python3"
  },
  "language_info": {
   "codemirror_mode": {
    "name": "ipython",
    "version": 3
   },
   "file_extension": ".py",
   "mimetype": "text/x-python",
   "name": "python",
   "nbconvert_exporter": "python",
   "pygments_lexer": "ipython3",
   "version": "3.13.7"
  }
 },
 "nbformat": 4,
 "nbformat_minor": 5
}
