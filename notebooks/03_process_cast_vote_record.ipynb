{
 "cells": [
  {
   "cell_type": "markdown",
   "id": "e3bb1342",
   "metadata": {},
   "source": [
    "## Cast Vote Record\n",
    "\n",
    "Cast vote record stores, for every election district, the number of total ballots of each order, this is the most granular voting information. Available in https://vote.nyc/page/election-results-summary. (Note that if you're trying to reproduce this after 2025, you might need https://vote.nyc/page/election-results-summary-2025).\n",
    "\n",
    "I download and unzip into `data/2025_Primary_CVR_2025-07-17`\n",
    "\n",
    "I also need the shape files of the election districts available here: https://www.nyc.gov/content/planning/pages/resources/datasets/election-districts\n",
    "I also unzipped this into `data/nyed_25c` (Make sure you get the ones from 2025).\n"
   ]
  },
  {
   "cell_type": "code",
   "execution_count": 1,
   "id": "500e43a2",
   "metadata": {},
   "outputs": [],
   "source": [
    "import pandas as pd\n",
    "import os\n",
    "from tqdm import tqdm\n",
    "import warnings\n",
    "import geopandas as gpd\n",
    "from io import BytesIO\n",
    "import folium\n",
    "from PIL import Image\n",
    "from IPython.display import display\n",
    "\n",
    "pd.set_option(\"display.max_rows\", 500)\n",
    "\n",
    "# suppress this noisy warning from openpyxl.\n",
    "warnings.filterwarnings(\n",
    "    \"ignore\",\n",
    "    message=\"Workbook contains no default style, apply openpyxl's default\",\n",
    "    category=UserWarning,\n",
    ")"
   ]
  },
  {
   "cell_type": "code",
   "execution_count": 2,
   "id": "4c65719a",
   "metadata": {},
   "outputs": [],
   "source": [
    "# Load in the raw data.\n",
    "cvr_subdirs = [subdir for subdir in os.listdir(\"../data\") if \"CVR\" in subdir]\n",
    "assert len(cvr_subdirs) == 1, \"Multiple (or none of the) subdirs in data/ have 'CVR' in their name\"\n",
    "data_dir = os.path.join(\"../data\", cvr_subdirs[0])\n",
    "\n",
    "results_fns = [\n",
    "    os.path.join(data_dir, filename)\n",
    "    for filename in os.listdir(data_dir)\n",
    "    if not \"CandidacyID_To_Name\" in filename\n",
    "]\n",
    "cand_id_to_name_fn = [\n",
    "    os.path.join(data_dir, filename)\n",
    "    for filename in os.listdir(data_dir)\n",
    "    if \"CandidacyID_To_Name\" in filename\n",
    "]\n",
    "assert (\n",
    "    len(cand_id_to_name_fn) == 1\n",
    "), f\"Multiple files in {data_dir} have 'CandidacyID_To_Name' in the name\"\n",
    "cand_id_to_name_fn = cand_id_to_name_fn[0]\n",
    "cand_id_to_name = (\n",
    "    pd.read_excel(cand_id_to_name_fn)\n",
    "    .astype(str)\n",
    "    .set_index(\"CandidacyID\")\n",
    "    .DefaultBallotName.to_dict()\n",
    ")\n",
    "\n",
    "# shape files for the election districts\n",
    "shape_file_dir = [subdir for subdir in os.listdir(\"../data\") if subdir.startswith(\"nyed\")]\n",
    "assert len(shape_file_dir) == 1, \"Multiple (or none of the) subdirs in data/ start with 'nyed'\"\n",
    "gdf = gpd.read_file(os.path.join(\"../data\", shape_file_dir[0], \"nyed.shp\"))"
   ]
  },
  {
   "cell_type": "code",
   "execution_count": 88,
   "id": "38a17219",
   "metadata": {},
   "outputs": [
    {
     "name": "stderr",
     "output_type": "stream",
     "text": [
      "100%|██████████| 31/31 [07:27<00:00, 14.42s/it]\n"
     ]
    }
   ],
   "source": [
    "# load each xlsx file.\n",
    "results = []\n",
    "for results_fn in tqdm(results_fns):\n",
    "    results.append(pd.read_excel(results_fn))\n",
    "results = pd.concat(results)"
   ]
  },
  {
   "cell_type": "code",
   "execution_count": null,
   "id": "0e0cd9b8",
   "metadata": {},
   "outputs": [],
   "source": [
    "# save the csv so we don't have to do the xlsx conversions again. Only save the dem mayoral data.\n",
    "mayoral_cols = [c for c in results.columns if \"DEM Mayor\" in c]\n",
    "results.set_index(\"Precinct\")[mayoral_cols].to_csv(\n",
    "    os.path.join(\"../data/primary_results/full_results_raw.csv\")\n",
    ")"
   ]
  },
  {
   "cell_type": "code",
   "execution_count": 4,
   "id": "a2f3fee9",
   "metadata": {},
   "outputs": [],
   "source": [
    "results = pd.read_csv(\"../data/primary_results/full_results_raw.csv\", index_col=0).astype(str)"
   ]
  },
  {
   "cell_type": "code",
   "execution_count": 5,
   "id": "cc0d2145",
   "metadata": {},
   "outputs": [
    {
     "name": "stderr",
     "output_type": "stream",
     "text": [
      "/var/folders/wx/fsvnr1956hngshgk9j9cpqw00000gn/T/ipykernel_76748/1780499039.py:2: FutureWarning: DataFrame.applymap has been deprecated. Use DataFrame.map instead.\n",
      "  df = results.applymap(lambda id: cand_id_to_name.get(id, id))\n"
     ]
    }
   ],
   "source": [
    "# post-process raw results\n",
    "df = results.applymap(lambda id: cand_id_to_name.get(id, id))\n",
    "first_choice_col = [c for c in df.columns if \"Choice 1\" in c]\n",
    "assert len(first_choice_col) == 1\n",
    "first_choice_col = first_choice_col[0]\n",
    "\n",
    "# zohran_first_choice_frac\n",
    "first_round_frac = (\n",
    "    df.groupby(level=0, group_keys=False)\n",
    "    .apply(lambda x: (x[first_choice_col] == \"Zohran Kwame Mamdani\").mean())\n",
    "    .rename(\"ZohranFirstRoundFrac\")\n",
    "    .reset_index()\n",
    "    .assign(\n",
    "        ElectDist=lambda df: df.Precinct.str.replace(\"AD:\", \"\")\n",
    "        .str.replace(\"ED:\", \"\")\n",
    "        .str.replace(\" \", \"\")\n",
    "        .astype(int)\n",
    "    )\n",
    "    .drop(columns=\"Precinct\")\n",
    ")\n",
    "df = gdf.merge(first_round_frac, on=\"ElectDist\", how=\"right\")"
   ]
  },
  {
   "cell_type": "code",
   "execution_count": 6,
   "id": "7845e2d7",
   "metadata": {},
   "outputs": [],
   "source": [
    "# to upload to drive\n",
    "df.to_csv(\"../data/primary_results/zohran_first_round_frac.csv\")"
   ]
  },
  {
   "cell_type": "code",
   "execution_count": null,
   "id": "58e499cf",
   "metadata": {},
   "outputs": [],
   "source": [
    "merged = df.to_crs(epsg=4326)  # convert to lat/lon\n",
    "m = folium.Map(location=[40.7128, -74.0060], zoom_start=11)  # pick a suitable center\n",
    "\n",
    "folium.Choropleth(\n",
    "    geo_data=merged,\n",
    "    data=merged,\n",
    "    columns=[\"ElectDist\", \"ZohranFirstRoundFrac\"],\n",
    "    key_on=\"feature.properties.ElectDist\",\n",
    "    fill_color=\"YlGnBu\",\n",
    "    legend_name=\"Fraction First Round Zohran\",\n",
    "    line_opacity=0.1,\n",
    "    fill_opacity=0.9,\n",
    ").add_to(m)\n",
    "png_bytes = m._to_png(5)\n",
    "img = Image.open(BytesIO(png_bytes))\n",
    "display(img)"
   ]
  },
  {
   "cell_type": "markdown",
   "id": "bea84864",
   "metadata": {},
   "source": [
    "Pretty expected. Super great results in queens / astoria, good support downtown and uptown manhattan, somewhat lacking in deep south brooklyn, upper east/west side, staten island, north bronx.\n"
   ]
  }
 ],
 "metadata": {
  "kernelspec": {
   "display_name": "zohran-ghs-dashboard (3.13.2)",
   "language": "python",
   "name": "python3"
  },
  "language_info": {
   "codemirror_mode": {
    "name": "ipython",
    "version": 3
   },
   "file_extension": ".py",
   "mimetype": "text/x-python",
   "name": "python",
   "nbconvert_exporter": "python",
   "pygments_lexer": "ipython3",
   "version": "3.13.2"
  }
 },
 "nbformat": 4,
 "nbformat_minor": 5
}
