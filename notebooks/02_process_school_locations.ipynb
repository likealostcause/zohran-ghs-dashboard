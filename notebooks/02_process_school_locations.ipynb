{
 "cells": [
  {
   "cell_type": "markdown",
   "id": "9c17a0f7",
   "metadata": {},
   "source": [
    "# School Locations Processing\n",
    "We have 3 different files with school location information, and each file has slightly different contents. Need to compare contents and resolve what our final/true list of geo-locatable schools is."
   ]
  },
  {
   "cell_type": "code",
   "execution_count": null,
   "id": "f8acf19c",
   "metadata": {},
   "outputs": [],
   "source": [
    "import geopandas as gpd\n",
    "import pandas as pd"
   ]
  },
  {
   "cell_type": "markdown",
   "id": "00a3c5a9",
   "metadata": {},
   "source": [
    "## School Point Locations\n",
    "Data source: https://data.cityofnewyork.us/Education/School-Point-Locations/jfju-ynrr/about_data\n",
    "\n",
    "Last updated: November 26, 2024\n",
    "\n",
    "Annoyingly, the data dictionary on the above linked page doesn't match the data itself, so we're left to guess on the meaning of some of these fields. Also, the description on the above linked page says this data contains Address, Principal, and Principal contact info, but that isn't in here."
   ]
  },
  {
   "cell_type": "code",
   "execution_count": null,
   "id": "111c3f2a",
   "metadata": {},
   "outputs": [],
   "source": [
    "school_points_gdf = gpd.read_file('DOE/School Locations/School Point Locations/SchoolPoints_APS_2024_08_28/SchoolPoints_APS_2024_08_28.shp')\n",
    "school_points_gdf.rename(columns={'Location_C': 'Location Code', 'Name': 'Location Name'}, inplace=True)\n",
    "school_points_gdf"
   ]
  },
  {
   "cell_type": "markdown",
   "id": "1c35b9f3",
   "metadata": {},
   "source": []
  },
  {
   "cell_type": "markdown",
   "id": "6bfb28c2",
   "metadata": {},
   "source": [
    "### LCGMS\n",
    "Last updated: November 26, 2024\n",
    "\n",
    "This data has more robust fields in it related to grades, address, open date, principal contact info, etc. But there is a discrepancy in the records included in the geocoded vs. non-geocoded files. Not sure yet if there are any other discrepancies between these two files but need to figure that out."
   ]
  },
  {
   "cell_type": "markdown",
   "id": "cbd7eea9",
   "metadata": {},
   "source": [
    "#### Non-geocoded LCGMS data\n",
    "Source: https://www.nycenet.edu/PublicApps/LCGMS.aspx"
   ]
  },
  {
   "cell_type": "code",
   "execution_count": null,
   "id": "30047234",
   "metadata": {},
   "outputs": [],
   "source": [
    "lcgms_df = pd.read_excel('DOE/School Locations/LCGMS/LCGMS_SchoolData_20250806_0112.xlsx', engine='openpyxl')\n",
    "lcgms_df"
   ]
  },
  {
   "cell_type": "markdown",
   "id": "b2be48c9",
   "metadata": {},
   "source": [
    "#### Geocoded LCGMS data\n",
    "Source: https://data.cityofnewyork.us/Education/NYC-DOE-Public-School-Location-Information/3bkj-34v2/about_data"
   ]
  },
  {
   "cell_type": "code",
   "execution_count": null,
   "id": "f0bd4df7",
   "metadata": {},
   "outputs": [],
   "source": [
    "lcgms_geocoded_df = pd.read_csv('DOE/School Locations/LCGMS/LCGMS_SchoolData_additional_geocoded_fields_added_.csv', encoding='latin-1')\n",
    "lcgms_geocoded_df\n",
    "# lcgms_geocoded_gdf = gpd.GeoDataFrame(lcgms_geocoded_df, geometry=gpd.GeoSeries.from_xy(lcgms_geocoded_df['lon'], lcgms_geocoded_df['lat']), crs=4326)"
   ]
  },
  {
   "cell_type": "markdown",
   "id": "40f2d399",
   "metadata": {},
   "source": [
    "### Discrepancies"
   ]
  },
  {
   "cell_type": "markdown",
   "id": "dd311962",
   "metadata": {},
   "source": [
    "#### TODO: resolve record count discrepancies between LCGMS datasets"
   ]
  },
  {
   "cell_type": "code",
   "execution_count": null,
   "id": "387916fe",
   "metadata": {},
   "outputs": [],
   "source": [
    "# Show record that are NOT in geocoded data but are in non-geocoded data\n",
    "lcgms_df.merge(lcgms_geocoded_df[['Location Code', 'Location Name']], on='Location Code', how='left', suffixes=('_lcgms', '_geocoded'), indicator=True).query('_merge == \"left_only\"').drop(columns='_merge')"
   ]
  },
  {
   "cell_type": "markdown",
   "id": "7c0aa7b0",
   "metadata": {},
   "source": [
    "#### TODO: resolve record count discrepancies between LCGMS data and School Points Data"
   ]
  },
  {
   "cell_type": "code",
   "execution_count": null,
   "id": "d96f1f15",
   "metadata": {},
   "outputs": [],
   "source": [
    "# Show records that are NOT in lcgms data but are in school points data\n",
    "school_points_gdf.merge(lcgms_df[['Location Code', 'Location Name']], left_on='Location Code', right_on='Location Code', how='left', suffixes=('_school', '_lcgms'), indicator=True).query('_merge != \"both\"')"
   ]
  },
  {
   "cell_type": "code",
   "execution_count": null,
   "id": "3b4d2b8f",
   "metadata": {},
   "outputs": [],
   "source": [
    "# TODO: are any of the points missing from LCGMS data in school points data and could be mapped by pulling them from there?"
   ]
  }
 ],
 "metadata": {
  "kernelspec": {
   "display_name": "zohran-ghs-dashboard",
   "language": "python",
   "name": "python3"
  },
  "language_info": {
   "codemirror_mode": {
    "name": "ipython",
    "version": 3
   },
   "file_extension": ".py",
   "mimetype": "text/x-python",
   "name": "python",
   "nbconvert_exporter": "python",
   "pygments_lexer": "ipython3",
   "version": "3.13.5"
  }
 },
 "nbformat": 4,
 "nbformat_minor": 5
}
